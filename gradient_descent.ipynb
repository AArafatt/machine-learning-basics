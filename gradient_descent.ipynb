{
  "nbformat": 4,
  "nbformat_minor": 0,
  "metadata": {
    "colab": {
      "provenance": []
    },
    "kernelspec": {
      "name": "python3",
      "display_name": "Python 3"
    },
    "language_info": {
      "name": "python"
    }
  },
  "cells": [
    {
      "cell_type": "code",
      "execution_count": null,
      "metadata": {
        "id": "bY5mGrJIz239"
      },
      "outputs": [],
      "source": [
        "import numpy as np"
      ]
    },
    {
      "cell_type": "code",
      "source": [
        "def gradient_descent(x,y):\n",
        "  m_curr = b_curr = 0\n",
        "  iterations = 1000\n",
        "  n = len(x)\n",
        "  learning_rate = 0.0001\n",
        "\n",
        "  for i in range(iterations):\n",
        "    y predicted = m_curr * x + b_curr\n",
        "    md = -(2/n)*sum(x*(y-y_predicted))\n",
        "    bd = -(2/n)*sum(y-y_predicted)\n",
        "    m_curr = m_curr - learning rate *md\n",
        "    b_curr = b_curr - learning_rate *bdprint(\"m {}, b {}, iteration {}\".format(m_curr,b_curr,i ))\n",
        "  \n",
        "  x = np.array([1,2,3,4,5])\n",
        "  y = np.array([5,7,9,11,13])\n",
        "\n",
        "  gradient_descent(x,y)\n",
        "  "
      ],
      "metadata": {
        "id": "zKaRMs1o0OtP",
        "colab": {
          "base_uri": "https://localhost:8080/",
          "height": 130
        },
        "outputId": "cdc87019-5b15-40de-928e-cc15c6358ea8"
      },
      "execution_count": null,
      "outputs": [
        {
          "output_type": "error",
          "ename": "SyntaxError",
          "evalue": "ignored",
          "traceback": [
            "\u001b[0;36m  File \u001b[0;32m\"<ipython-input-2-b1002e4c0cbc>\"\u001b[0;36m, line \u001b[0;32m8\u001b[0m\n\u001b[0;31m    y predicted = m_curr * x + b_curr\u001b[0m\n\u001b[0m      ^\u001b[0m\n\u001b[0;31mSyntaxError\u001b[0m\u001b[0;31m:\u001b[0m invalid syntax\n"
          ]
        }
      ]
    },
    {
      "cell_type": "code",
      "source": [],
      "metadata": {
        "id": "2QU73vO90aMg"
      },
      "execution_count": null,
      "outputs": []
    }
  ]
}